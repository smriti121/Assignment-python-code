{
 "cells": [
  {
   "cell_type": "markdown",
   "metadata": {},
   "source": [
    "Q7. Create a logic to segregate folders based on file size. Make 3 folders small size, middle size, large size folder and transfer the files to respective folders "
   ]
  },
  {
   "cell_type": "code",
   "execution_count": 3,
   "metadata": {},
   "outputs": [
    {
     "ename": "FileNotFoundError",
     "evalue": "[WinError 3] The system cannot find the path specified: '/home/user/documents/files'",
     "output_type": "error",
     "traceback": [
      "\u001b[1;31m---------------------------------------------------------------------------\u001b[0m",
      "\u001b[1;31mFileNotFoundError\u001b[0m                         Traceback (most recent call last)",
      "Cell \u001b[1;32mIn[3], line 52\u001b[0m\n\u001b[0;32m     47\u001b[0m                 \u001b[38;5;28mprint\u001b[39m(\u001b[38;5;124mf\u001b[39m\u001b[38;5;124m\"\u001b[39m\u001b[38;5;124mError moving \u001b[39m\u001b[38;5;132;01m{\u001b[39;00mfile_name\u001b[38;5;132;01m}\u001b[39;00m\u001b[38;5;124m: \u001b[39m\u001b[38;5;132;01m{\u001b[39;00me\u001b[38;5;132;01m}\u001b[39;00m\u001b[38;5;124m\"\u001b[39m)\n\u001b[0;32m     51\u001b[0m \u001b[38;5;66;03m# Run the categorization\u001b[39;00m\n\u001b[1;32m---> 52\u001b[0m \u001b[43mcategorize_files\u001b[49m\u001b[43m(\u001b[49m\u001b[43m)\u001b[49m\n",
      "Cell \u001b[1;32mIn[3], line 23\u001b[0m, in \u001b[0;36mcategorize_files\u001b[1;34m()\u001b[0m\n\u001b[0;32m     22\u001b[0m \u001b[38;5;28;01mdef\u001b[39;00m \u001b[38;5;21mcategorize_files\u001b[39m():\n\u001b[1;32m---> 23\u001b[0m     \u001b[38;5;28;01mfor\u001b[39;00m file_name \u001b[38;5;129;01min\u001b[39;00m \u001b[43mos\u001b[49m\u001b[38;5;241;43m.\u001b[39;49m\u001b[43mlistdir\u001b[49m\u001b[43m(\u001b[49m\u001b[43msource_directory\u001b[49m\u001b[43m)\u001b[49m:\n\u001b[0;32m     24\u001b[0m         file_path \u001b[38;5;241m=\u001b[39m os\u001b[38;5;241m.\u001b[39mpath\u001b[38;5;241m.\u001b[39mjoin(source_directory, file_name)\n\u001b[0;32m     26\u001b[0m         \u001b[38;5;28;01mif\u001b[39;00m os\u001b[38;5;241m.\u001b[39mpath\u001b[38;5;241m.\u001b[39misfile(file_path):\n",
      "\u001b[1;31mFileNotFoundError\u001b[0m: [WinError 3] The system cannot find the path specified: '/home/user/documents/files'"
     ]
    }
   ],
   "source": [
    "import os\n",
    "import shutil\n",
    "\n",
    "source_directory = \"/home/user/documents/files\"\n",
    "\n",
    "small_folder = \"/home/user/documents/small_size\"\n",
    "middle_folder = \"/home/user/documents/middle_size\"\n",
    "large_folder = \"/home/user/documents/large_size\"\n",
    "\n",
    "small_size_limit = 1 * 1024 * 1024 \n",
    "middle_size_limit = 10 * 1024 * 1024  \n",
    "\n",
    "os.makedirs(small_folder, exist_ok=True)\n",
    "os.makedirs(middle_folder, exist_ok=True)\n",
    "os.makedirs(large_folder, exist_ok=True)\n",
    "\n",
    "def categorize_files():\n",
    "    for file_name in os.listdir(source_directory):\n",
    "        file_path = os.path.join(source_directory, file_name)\n",
    "        \n",
    "        if os.path.isfile(file_path):\n",
    "            file_size = os.path.getsize(file_path)\n",
    "            \n",
    "            if file_size < small_size_limit:\n",
    "                destination_folder = small_folder\n",
    "            elif file_size >= small_size_limit and file_size < middle_size_limit:\n",
    "                destination_folder = middle_folder\n",
    "            else:\n",
    "                destination_folder = large_folder\n",
    "            \n",
    "            destination_path = os.path.join(destination_folder, file_name)\n",
    "            \n",
    "            try:\n",
    "                if os.path.exists(destination_path):\n",
    "                    name, ext = os.path.splitext(file_name)\n",
    "                    destination_path = os.path.join(destination_folder, name + \"_1\" + ext)\n",
    "                \n",
    "                shutil.move(file_path, destination_path)\n",
    "                print(f\"Moved {file_name} of size {file_size / (1024 * 1024):.2f} MB to {destination_folder}\")\n",
    "            except Exception as e:\n",
    "                print(f\"Error moving {file_name}: {e}\")\n",
    "\n",
    "\n",
    "categorize_files()\n"
   ]
  },
  {
   "cell_type": "code",
   "execution_count": null,
   "metadata": {},
   "outputs": [],
   "source": []
  }
 ],
 "metadata": {
  "kernelspec": {
   "display_name": "Python 3",
   "language": "python",
   "name": "python3"
  },
  "language_info": {
   "codemirror_mode": {
    "name": "ipython",
    "version": 3
   },
   "file_extension": ".py",
   "mimetype": "text/x-python",
   "name": "python",
   "nbconvert_exporter": "python",
   "pygments_lexer": "ipython3",
   "version": "3.12.6"
  }
 },
 "nbformat": 4,
 "nbformat_minor": 2
}
