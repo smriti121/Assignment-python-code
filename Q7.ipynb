{
 "cells": [
  {
   "cell_type": "markdown",
   "metadata": {},
   "source": [
    "Q7. Create a logic to segregate folders based on file size. Make 3 folders small size, middle size, large size folder and transfer the files to respective folders "
   ]
  },
  {
   "cell_type": "code",
   "execution_count": 10,
   "metadata": {},
   "outputs": [],
   "source": [
    "import os\n",
    "import shutil\n",
    "\n",
    "source_directory = \"E:\\\\python\"\n",
    "\n",
    "small_folder = \"E:\\\\python\\\\small_size\"\n",
    "middle_folder = \"E:\\\\python\\\\middle_size\"\n",
    "large_folder = \"E:\\\\python\\\\large_size\"\n",
    "\n",
    "small_size_limit = 1 * 1024 * 1024 \n",
    "middle_size_limit = 10 * 1024 * 1024  \n",
    "\n",
    "os.makedirs(small_folder, exist_ok=True)\n",
    "os.makedirs(middle_folder, exist_ok=True)\n",
    "os.makedirs(large_folder, exist_ok=True)\n",
    "\n",
    "def categorize_files():\n",
    "    for file_name in os.listdir(source_directory):\n",
    "        file_path = os.path.join(source_directory, file_name)\n",
    "        \n",
    "        if os.path.isfile(file_path):\n",
    "            file_size = os.path.getsize(file_path)\n",
    "            \n",
    "            if file_size < small_size_limit:\n",
    "                destination_folder = small_folder\n",
    "            elif file_size >= small_size_limit and file_size < middle_size_limit:\n",
    "                destination_folder = middle_folder\n",
    "            else:\n",
    "                destination_folder = large_folder\n",
    "            \n",
    "            destination_path = os.path.join(destination_folder, file_name)\n",
    "            \n",
    "            try:\n",
    "                if os.path.exists(destination_path):\n",
    "                    name, ext = os.path.splitext(file_name)\n",
    "                    destination_path = os.path.join(destination_folder, name + \"_1\" + ext)\n",
    "                \n",
    "                shutil.move(file_path, destination_path)\n",
    "                print(f\"Moved {file_name} of size {file_size / (1024 * 1024):.2f} MB to {destination_folder}\")\n",
    "            except Exception as e:\n",
    "                print(f\"Error moving {file_name}: {e}\")\n",
    "\n",
    "\n",
    "categorize_files()\n"
   ]
  },
  {
   "cell_type": "code",
   "execution_count": null,
   "metadata": {},
   "outputs": [],
   "source": []
  }
 ],
 "metadata": {
  "kernelspec": {
   "display_name": "Python 3",
   "language": "python",
   "name": "python3"
  },
  "language_info": {
   "codemirror_mode": {
    "name": "ipython",
    "version": 3
   },
   "file_extension": ".py",
   "mimetype": "text/x-python",
   "name": "python",
   "nbconvert_exporter": "python",
   "pygments_lexer": "ipython3",
   "version": "3.13.1"
  }
 },
 "nbformat": 4,
 "nbformat_minor": 2
}
