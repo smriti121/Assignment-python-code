{
 "cells": [
  {
   "cell_type": "markdown",
   "metadata": {},
   "source": [
    "Registration page exception\n"
   ]
  },
  {
   "cell_type": "markdown",
   "metadata": {},
   "source": [
    "1. Name:\n"
   ]
  },
  {
   "cell_type": "code",
   "execution_count": 5,
   "metadata": {},
   "outputs": [
    {
     "name": "stdout",
     "output_type": "stream",
     "text": [
      "Name must contain only alphabetic characters.\n"
     ]
    }
   ],
   "source": [
    "class InvalidNameError(Exception):\n",
    "    pass\n",
    "\n",
    "def validate_name(name):\n",
    "    \"\"\"Validate the user's name for login.\"\"\"\n",
    "    if not name.strip():\n",
    "        raise InvalidNameError(\"Name cannot be empty.\")\n",
    "    if not name.isalpha():\n",
    "        raise InvalidNameError(\"Name must contain only alphabetic characters.\")\n",
    "    if len(name) < 3:\n",
    "        raise InvalidNameError(\"Name must be at least 3 characters long.\")\n",
    "    if len(name) > 20:\n",
    "        raise InvalidNameError(\"Name cannot exceed 20 characters.\")\n",
    "    return True  \n",
    "\n",
    "try:\n",
    "    user_name = input(\"Enter your name: \")\n",
    "    if validate_name(user_name):\n",
    "        print(f\"Welcome, {user_name}!\")\n",
    "except InvalidNameError as e:\n",
    "    print(e)  "
   ]
  },
  {
   "cell_type": "markdown",
   "metadata": {},
   "source": [
    "2. Email"
   ]
  },
  {
   "cell_type": "code",
   "execution_count": 1,
   "metadata": {},
   "outputs": [
    {
     "name": "stdout",
     "output_type": "stream",
     "text": [
      "Name validated: smriti\n",
      "Email validated: smritikumari1210@gmail.com\n",
      "Welcome, smriti! Your email is smritikumari1210@gmail.com.\n"
     ]
    }
   ],
   "source": [
    "import re\n",
    "\n",
    "\n",
    "class InvalidEmailError(Exception):\n",
    "    \"\"\"Custom exception for invalid email addresses.\"\"\"\n",
    "    pass\n",
    "\n",
    "\n",
    "def validate_email(email):\n",
    "    \"\"\"Validate the user's email address.\"\"\"\n",
    "  \n",
    "    email_pattern = r\"^[a-zA-Z0-9._%+-]+@[a-zA-Z0-9.-]+\\.[a-zA-Z]{2,}$\"\n",
    "    if not email.strip():\n",
    "        raise InvalidEmailError(\"Email cannot be empty.\")\n",
    "    if not re.match(email_pattern, email):\n",
    "        raise InvalidEmailError(\"Invalid email format.\")\n",
    "    return True  \n",
    "\n",
    "try:\n",
    " \n",
    "    user_email = input(\"Enter your email: \")\n",
    "    if validate_email(user_email):\n",
    "        print(f\"Email validated: {user_email}\")\n",
    "        \n",
    "    print(f\"Welcome, {user_name}! Your email is {user_email}.\")\n",
    "\n",
    "except InvalidEmailError as e:\n",
    "    print(f\"Email validation error: {e}\")\n"
   ]
  },
  {
   "cell_type": "markdown",
   "metadata": {},
   "source": [
    "3. Password"
   ]
  },
  {
   "cell_type": "code",
   "execution_count": 2,
   "metadata": {},
   "outputs": [
    {
     "name": "stdout",
     "output_type": "stream",
     "text": [
      "Password validated successfully.\n"
     ]
    }
   ],
   "source": [
    "import re\n",
    "\n",
    "\n",
    "class InvalidPasswordError(Exception):\n",
    "    \"\"\"Custom exception for invalid passwords.\"\"\"\n",
    "    pass\n",
    "\n",
    "\n",
    "\n",
    "def validate_password(password):\n",
    "    \"\"\"Validate the user's password.\"\"\"\n",
    "    # Password must be at least 8 characters, include one uppercase letter, one lowercase letter, one number, and one special character\n",
    "    password_pattern = r\"^(?=.*[A-Z])(?=.*[a-z])(?=.*\\d)(?=.*[@$!%*?&])[A-Za-z\\d@$!%*?&]{8,}$\"\n",
    "    if not password.strip():\n",
    "        raise InvalidPasswordError(\"Password cannot be empty.\")\n",
    "    if not re.match(password_pattern, password):\n",
    "        raise InvalidPasswordError(\n",
    "            \"Password must be at least 8 characters long, include one uppercase letter, one lowercase letter, one number, and one special character.\"\n",
    "        )\n",
    "    return True  \n",
    "\n",
    "\n",
    "try:\n",
    "    \n",
    "    user_password = input(\"Enter your password: \")\n",
    "    if validate_password(user_password):\n",
    "        print(\"Password validated successfully.\")\n",
    "        \n",
    " \n",
    "    \n",
    "\n",
    "except InvalidPasswordError as e:\n",
    "    print(f\"Password validation error: {e}\")\n"
   ]
  },
  {
   "cell_type": "markdown",
   "metadata": {},
   "source": [
    "4. Phone no."
   ]
  },
  {
   "cell_type": "code",
   "execution_count": null,
   "metadata": {},
   "outputs": [
    {
     "name": "stdout",
     "output_type": "stream",
     "text": [
      "Phone number validation error: Phone number cannot be empty.\n"
     ]
    }
   ],
   "source": [
    "import re\n",
    "\n",
    "class InvalidPhoneNumberError(Exception):\n",
    "    \"\"\"Custom exception for invalid phone numbers.\"\"\"\n",
    "    pass\n",
    "\n",
    "\n",
    "def validate_phone_number(phone):\n",
    "    \"\"\"Validate the user's phone number.\"\"\"\n",
    "    phone_pattern = r\"^\\+?[1-9]\\d{1,14}$\"\n",
    "    if not phone.strip():\n",
    "        raise InvalidPhoneNumberError(\"Phone number cannot be empty.\")\n",
    "    if not re.match(phone_pattern, phone):\n",
    "        raise InvalidPhoneNumberError(\n",
    "            \"Phone number must be a valid international format\"\n",
    "        )\n",
    "    return True  \n",
    "\n",
    "\n",
    "try:\n",
    "    user_phone = input(\"Enter your phone number: \")\n",
    "    if validate_phone_number(user_phone):\n",
    "        print(f\"Phone number validated: {user_phone}\")\n",
    "        \n",
    "    print(f\"your phone number is {user_phone}.\")\n",
    "\n",
    "except InvalidPhoneNumberError as e:\n",
    "    print(f\"Phone number validation error: {e}\")\n"
   ]
  },
  {
   "cell_type": "markdown",
   "metadata": {},
   "source": [
    "5. DOB"
   ]
  },
  {
   "cell_type": "code",
   "execution_count": 5,
   "metadata": {},
   "outputs": [
    {
     "name": "stdout",
     "output_type": "stream",
     "text": [
      "Date of birth validation error: User must be at least 18 years old.\n"
     ]
    }
   ],
   "source": [
    "import re\n",
    "from datetime import datetime\n",
    "\n",
    "class InvalidDOBError(Exception):\n",
    "    \"\"\"Custom exception for invalid date of birth.\"\"\"\n",
    "    pass\n",
    "\n",
    "\n",
    "def validate_dob(dob):\n",
    "    \"\"\"Validate the user's date of birth.\"\"\"\n",
    "    dob_format = \"%Y-%m-%d\"  # Expected format: YYYY-MM-DD\n",
    "    if not dob.strip():\n",
    "        raise InvalidDOBError(\"Date of birth cannot be empty.\")\n",
    "    try:\n",
    "        dob_date = datetime.strptime(dob, dob_format)\n",
    "        today = datetime.now()\n",
    "        age = today.year - dob_date.year - ((today.month, today.day) < (dob_date.month, dob_date.day))\n",
    "        if age < 18:\n",
    "            raise InvalidDOBError(\"User must be at least 18 years old.\")\n",
    "        return True\n",
    "    except ValueError:\n",
    "        raise InvalidDOBError(\"Date of birth must be in the format YYYY-MM-DD.\")\n",
    "\n",
    "try:\n",
    "  \n",
    "    user_dob = input(\"Enter your date of birth (YYYY-MM-DD): \")\n",
    "    if validate_dob(user_dob):\n",
    "        print(f\"Date of birth validated: {user_dob}\")\n",
    "        \n",
    "    print(f\"date of birth is {user_dob}\")\n",
    "    \n",
    "\n",
    "except InvalidDOBError as e:\n",
    "    print(f\"Date of birth validation error: {e}\")\n"
   ]
  },
  {
   "cell_type": "markdown",
   "metadata": {},
   "source": [
    "6. Height"
   ]
  },
  {
   "cell_type": "code",
   "execution_count": null,
   "metadata": {},
   "outputs": [],
   "source": [
    "import re\n",
    "from datetime import datetime\n",
    "\n",
    "\n",
    "\n",
    "class InvalidHeightError(Exception):\n",
    "    \"\"\"Custom exception for invalid height.\"\"\"\n",
    "    pass\n",
    "\n",
    "\n",
    "def validate_height(height):\n",
    "    \"\"\"Validate the user's height.\"\"\"\n",
    "    try:\n",
    "        height = float(height)\n",
    "        if height <= 0 or height > 300:\n",
    "            raise InvalidHeightError(\"Height must be a positive value and realistic (in cm).\")\n",
    "        return True\n",
    "    except ValueError:\n",
    "        raise InvalidHeightError(\"Height must be a valid number (e.g., 170).\")\n",
    "\n",
    "\n",
    "try:\n",
    "\n",
    "    user_height = input(\"Enter your height in cm: \")\n",
    "    if validate_height(user_height):\n",
    "        print(f\"Height validated: {user_height} cm\")\n",
    "        \n",
    "    print(f\"height is {user_height} cm.\")\n",
    "    \n",
    "\n",
    "except InvalidHeightError as e:\n",
    "    print(f\"Height validation error: {e}\")\n"
   ]
  },
  {
   "cell_type": "markdown",
   "metadata": {},
   "source": [
    "7. Weight"
   ]
  },
  {
   "cell_type": "code",
   "execution_count": null,
   "metadata": {},
   "outputs": [],
   "source": [
    "import re\n",
    "from datetime import datetime\n",
    "\n",
    "\n",
    "\n",
    "class InvalidWeightError(Exception):\n",
    "    \"\"\"Custom exception for invalid weight.\"\"\"\n",
    "    pass\n",
    "\n",
    "\n",
    "def validate_weight(weight):\n",
    "    \"\"\"Validate the user's weight.\"\"\"\n",
    "    try:\n",
    "        weight = float(weight)\n",
    "        if weight <= 0 or weight > 500:\n",
    "            raise InvalidWeightError(\"Weight must be a positive value and realistic (in kg).\")\n",
    "        return True\n",
    "    except ValueError:\n",
    "        raise InvalidWeightError(\"Weight must be a valid number (e.g., 70).\")\n",
    "\n",
    "\n",
    "try:\n",
    "    \n",
    "    user_weight = input(\"Enter your weight in kg: \")\n",
    "    if validate_weight(user_weight):\n",
    "        print(f\"Weight validated: {user_weight} kg\")\n",
    "        \n",
    "    print(f\"weight is {user_weight} kg.\")\n",
    "    \n",
    "except InvalidWeightError as e:\n",
    "    print(f\"Weight validation error: {e}\")\n"
   ]
  }
 ],
 "metadata": {
  "kernelspec": {
   "display_name": "Python 3",
   "language": "python",
   "name": "python3"
  },
  "language_info": {
   "codemirror_mode": {
    "name": "ipython",
    "version": 3
   },
   "file_extension": ".py",
   "mimetype": "text/x-python",
   "name": "python",
   "nbconvert_exporter": "python",
   "pygments_lexer": "ipython3",
   "version": "3.13.1"
  }
 },
 "nbformat": 4,
 "nbformat_minor": 2
}
