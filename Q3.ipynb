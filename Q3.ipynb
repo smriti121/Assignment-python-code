{
 "cells": [
  {
   "cell_type": "markdown",
   "metadata": {},
   "source": [
    "Q3. Generate the bill with proper format to create the bill file. User may enter more than 1 element "
   ]
  },
  {
   "cell_type": "code",
   "execution_count": 3,
   "metadata": {},
   "outputs": [
    {
     "name": "stdout",
     "output_type": "stream",
     "text": [
      "\n",
      "\n",
      "\n",
      "\n",
      "\n",
      "****************************************\n",
      "           George Restaurant            \n",
      "               Camp, Pune               \n",
      "             (+91) 456-7890             \n",
      "****************************************\n",
      "Item                 Qty            Price\n",
      "****************************************\n",
      "Burger               2             158.00\n",
      "Idli                 3             360.00\n",
      "Cheesecake           4             200.00\n",
      "****************************************\n",
      "Total                             718.00\n",
      "****************************************\n",
      "     Thank You! Please Visit Again!     \n",
      "****************************************\n"
     ]
    }
   ],
   "source": [
    "def print_restaurant_bill():\n",
    "    \n",
    "    restaurant_name = \"George Restaurant\"\n",
    "    address = \"Camp, Pune\"\n",
    "    contact = \"(+91) 456-7890\"\n",
    "\n",
    "\n",
    "    menu_items = [\n",
    "        {\"name\": \"Burger\", \"price\": 79},\n",
    "        {\"name\": \"Idli\", \"price\": 120},\n",
    "        {\"name\": \"Bisleri\", \"price\": 29},\n",
    "        {\"name\": \"Cheesecake\", \"price\": 50},\n",
    "    ]\n",
    "\n",
    "    \n",
    "    items = []\n",
    "    for menu_item in menu_items:\n",
    "        quantity = int(input(f\"{menu_item['name']} (Price: {menu_item['price']}): \"))\n",
    "        if quantity > 0:  \n",
    "            items.append({\"name\": menu_item[\"name\"], \"quantity\": quantity, \"price\": menu_item[\"price\"]})\n",
    "        print() \n",
    "\n",
    "\n",
    "    print(\"\\n\" + \"*\" * 40)\n",
    "    print(\"{:^40}\".format(restaurant_name))\n",
    "    print(\"{:^40}\".format(address))\n",
    "    print(\"{:^40}\".format(contact))\n",
    "    print(\"*\" * 40)\n",
    "    print(\"{:<20} {:<10} {:>9}\".format(\"Item\", \"Qty\", \"Price\"))\n",
    "    print(\"*\" * 40)\n",
    "\n",
    "    total = 0\n",
    "    for item in items:\n",
    "        item_total = item[\"quantity\"] * item[\"price\"]\n",
    "        total += item_total\n",
    "        print(\n",
    "            \"{:<20} {:<10} {:>9.2f}\".format(\n",
    "                item[\"name\"], item[\"quantity\"], item_total\n",
    "            )\n",
    "        )\n",
    "\n",
    "\n",
    "    print(\"*\" * 40)\n",
    "    print(\"{:<30} {:>9.2f}\".format(\"Total\", total))\n",
    "    print(\"*\" * 40)\n",
    "    print(\"{:^40}\".format(\"Thank You! Please Visit Again!\"))\n",
    "    print(\"*\" * 40)\n",
    "\n",
    "\n",
    "\n",
    "print_restaurant_bill()"
   ]
  },
  {
   "cell_type": "code",
   "execution_count": null,
   "metadata": {},
   "outputs": [],
   "source": []
  }
 ],
 "metadata": {
  "kernelspec": {
   "display_name": "Python 3",
   "language": "python",
   "name": "python3"
  },
  "language_info": {
   "codemirror_mode": {
    "name": "ipython",
    "version": 3
   },
   "file_extension": ".py",
   "mimetype": "text/x-python",
   "name": "python",
   "nbconvert_exporter": "python",
   "pygments_lexer": "ipython3",
   "version": "3.12.6"
  }
 },
 "nbformat": 4,
 "nbformat_minor": 2
}
