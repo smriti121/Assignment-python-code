{
 "cells": [
  {
   "cell_type": "markdown",
   "metadata": {},
   "source": [
    "Q1. Create the list of mix element by asking user to enter the values. Segregate the mixed data type list into two different list "
   ]
  },
  {
   "cell_type": "code",
   "execution_count": 1,
   "metadata": {},
   "outputs": [
    {
     "name": "stdout",
     "output_type": "stream",
     "text": [
      "Numbers: [1, 2, 3, 4]\n",
      "Characters: ['a', 'b', 'c', 'd']\n"
     ]
    }
   ],
   "source": [
    "l2 = [1, 'a', 2, 'b', 3, 'c', 4, 'd']\n",
    "\n",
    "\n",
    "num = []\n",
    "char = []\n",
    "\n",
    "for i in l2:\n",
    "    if type(i) in [int, float]:\n",
    "        num.append(i)\n",
    "    elif type(i) == str:\n",
    "        char.append(i)\n",
    "\n",
    "print(\"Numbers:\", num)\n",
    "print(\"Characters:\", char)"
   ]
  },
  {
   "cell_type": "code",
   "execution_count": null,
   "metadata": {},
   "outputs": [],
   "source": []
  }
 ],
 "metadata": {
  "kernelspec": {
   "display_name": "Python 3",
   "language": "python",
   "name": "python3"
  },
  "language_info": {
   "codemirror_mode": {
    "name": "ipython",
    "version": 3
   },
   "file_extension": ".py",
   "mimetype": "text/x-python",
   "name": "python",
   "nbconvert_exporter": "python",
   "pygments_lexer": "ipython3",
   "version": "3.12.6"
  }
 },
 "nbformat": 4,
 "nbformat_minor": 2
}
