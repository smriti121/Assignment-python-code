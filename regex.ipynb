{
 "cells": [
  {
   "cell_type": "markdown",
   "metadata": {},
   "source": [
    "Registration page regex"
   ]
  },
  {
   "cell_type": "markdown",
   "metadata": {},
   "source": [
    "1. Name"
   ]
  },
  {
   "cell_type": "code",
   "execution_count": 1,
   "metadata": {},
   "outputs": [
    {
     "name": "stdout",
     "output_type": "stream",
     "text": [
      "Valid: Name is acceptable.\n"
     ]
    }
   ],
   "source": [
    "import re\n",
    "\n",
    "def validate_name(name):\n",
    "    \"\"\"\n",
    "    name must start with an alphabet, Only alphabets, spaces, and hyphens are allowed, Length should be between 2 and 50 characters.\n",
    "    \"\"\"\n",
    "    pattern = r'^[A-Za-z][A-Za-z\\s\\-]*$'  \n",
    "\n",
    "    if not name.strip():\n",
    "        return \"Invalid: Name cannot be empty.\"\n",
    "\n",
    "    if not re.match(r'^[A-Za-z]', name):\n",
    "        return \"Invalid: Name must start with an alphabet.\"\n",
    "\n",
    "    if not re.fullmatch(pattern, name):\n",
    "        if len(name) < 2:\n",
    "            return \"Invalid: Name must be at least 2 characters long.\"\n",
    "        elif len(name) > 50:\n",
    "            return \"Invalid: Name must be at most 50 characters long.\"\n",
    "        else:\n",
    "            return \"Invalid\"\n",
    "\n",
    "    return \"Valid name \"\n",
    "\n",
    "\n",
    "name_input = input(\"Enter your name: \")\n",
    "result = validate_name(name_input)\n",
    "print(result)\n"
   ]
  },
  {
   "cell_type": "markdown",
   "metadata": {},
   "source": [
    "2.  Email"
   ]
  },
  {
   "cell_type": "code",
   "execution_count": 2,
   "metadata": {},
   "outputs": [
    {
     "name": "stdout",
     "output_type": "stream",
     "text": [
      "Invalid\n"
     ]
    }
   ],
   "source": [
    "import re\n",
    "\n",
    "def validate_email(email):\n",
    "    \"\"\"\n",
    "    email must follow standard email format: [local-part]@[domain].[extension], Local part and domain must only contain letters, digits, periods, underscores, or hyphens, Domain extension must be 2-6 letters long.\n",
    "    \"\"\"\n",
    "    pattern = r'^[a-zA-Z0-9._%-]+@[a-zA-Z0-9.-]+\\.[a-zA-Z]{2,6}$'\n",
    "\n",
    "    if not email.strip():\n",
    "        return \"Invalid: Email cannot be empty.\"\n",
    "\n",
    "    if not re.fullmatch(pattern, email):\n",
    "        if \"@\" not in email:\n",
    "            return \"Invalid\"\n",
    "        if email.startswith(\"@\") or email.endswith(\"@\"):\n",
    "            return \"Invalid.\"\n",
    "        if \".\" not in email.split(\"@\")[-1]:\n",
    "            return \"Invalid: Email must contain a domain extension\"\n",
    "        return \"Invalid Email format is incorrect, it is in the format 'user@domain.com'.\"\n",
    "\n",
    "    return \"Valid email\"\n",
    "\n",
    "\n",
    "email_input = input(\"Enter your email: \")\n",
    "result = validate_email(email_input)\n",
    "print(result)\n"
   ]
  },
  {
   "cell_type": "markdown",
   "metadata": {},
   "source": [
    "3. Password"
   ]
  },
  {
   "cell_type": "code",
   "execution_count": null,
   "metadata": {},
   "outputs": [],
   "source": [
    "import re\n",
    "\n",
    "def validate_password(password):\n",
    "    \"\"\"\n",
    "     password must be at least 8 characters long and at most 20 characters, must include at least one uppercase letter, must include at least one lowercase letter, must include at least one digit, must include at least one special character (!@#$%^&*), Cannot contain spaces.\n",
    "    \"\"\"\n",
    "    pattern = r'^(?=.*[A-Z])(?=.*[a-z])(?=.*\\d)(?=.*[!@#$%^&*])[A-Za-z\\d!@#$%^&*]{8,20}$'\n",
    "\n",
    "    if not password:\n",
    "        return \"Invalid: Password cannot be empty.\"\n",
    "\n",
    "    if not re.fullmatch(pattern, password):\n",
    "        if len(password) < 8:\n",
    "            return \"Invalid: Password must be at least 8 characters long.\"\n",
    "        elif len(password) > 20:\n",
    "            return \"Invalid: Password must not exceed 20 characters.\"\n",
    "        elif not any(char.isupper() for char in password):\n",
    "            return \"Invalid: Password must include at least one uppercase letter.\"\n",
    "        elif not any(char.islower() for char in password):\n",
    "            return \"Invalid: Password must include at least one lowercase letter.\"\n",
    "        elif not any(char.isdigit() for char in password):\n",
    "            return \"Invalid: Password must include at least one digit.\"\n",
    "        elif not any(char in \"!@#$%^&*\" for char in password):\n",
    "            return \"Invalid: Password must include at least one special character.\"\n",
    "        elif \" \" in password:\n",
    "            return \"Invalid: Password cannot contain spaces.\"\n",
    "        else:\n",
    "            return \"Invalid: Password does not meet the security requirements.\"\n",
    "\n",
    "    return \"Valid Password.\"\n",
    "\n",
    "\n",
    "password_input = input(\"Enter your password: \")\n",
    "result = validate_password(password_input)\n",
    "print(result)\n"
   ]
  },
  {
   "cell_type": "markdown",
   "metadata": {},
   "source": [
    "4. Phone no."
   ]
  },
  {
   "cell_type": "code",
   "execution_count": null,
   "metadata": {},
   "outputs": [],
   "source": [
    "import re\n",
    "\n",
    "def validate_phone_number(phone_number):\n",
    "    \"\"\"\n",
    "    phone number, must be 10 to 15 digits long, may include an optional '+' at the start, Cannot contain letters or special characters (except '+'), must not contain spaces or separators like '-' or '.'.\n",
    "    \"\"\"\n",
    "    pattern = r'^\\+?[0-9]{10,15}$'\n",
    "\n",
    "    if not phone_number.strip():\n",
    "        return \"Invalid: Phone number cannot be empty.\"\n",
    "\n",
    "    if not re.fullmatch(pattern, phone_number):\n",
    "        if len(phone_number) < 10:\n",
    "            return \"Invalid: Phone number must be at least 10 digits long.\"\n",
    "        elif len(phone_number) > 15:\n",
    "            return \"Invalid: Phone number must not exceed 15 digits.\"\n",
    "        elif not phone_number.isdigit() and not (phone_number.startswith('+') and phone_number[1:].isdigit()):\n",
    "            return \"Invalid: Phone number must contain only digits and an optional '+' at the start.\"\n",
    "        else:\n",
    "            return \"Invalid: Phone number format is incorrect.\"\n",
    "\n",
    "    return \"Valid: Phone number is acceptable.\"\n",
    "\n",
    "\n",
    "phone_number_input = input(\"Enter your phone number: \")\n",
    "result = validate_phone_number(phone_number_input)\n",
    "print(result)\n"
   ]
  },
  {
   "cell_type": "markdown",
   "metadata": {},
   "source": [
    "5. DOB"
   ]
  },
  {
   "cell_type": "code",
   "execution_count": null,
   "metadata": {},
   "outputs": [],
   "source": [
    "import re\n",
    "from datetime import datetime\n",
    "\n",
    "def validate_dob(dob):\n",
    "    \"\"\"\n",
    "    DOB must be in the format: DD/MM/YYYY, day must be valid (1-31 depending on the month/year), month must be valid (1-12), year must be realistic (e.g., 1900 to the current year), the date cannot be in the future.\n",
    "    \"\"\"\n",
    "    pattern = r'^(0[1-9]|[12][0-9]|3[01])/(0[1-9]|1[0-2])/(19|20)\\d{2}$'\n",
    "\n",
    "    if not dob.strip():\n",
    "        return \"Invalid: Date of birth cannot be empty.\"\n",
    "\n",
    "    if not re.fullmatch(pattern, dob):\n",
    "        return \"Invalid: Date of birth must be in the format DD/MM/YYYY (e.g., 15/08/1995).\"\n",
    "\n",
    "    try:\n",
    "        day, month, year = map(int, dob.split(\"/\"))\n",
    "        dob_date = datetime(year, month, day)\n",
    "        current_date = datetime.now()\n",
    "\n",
    "        if dob_date > current_date:\n",
    "            return \"Invalid: Date of birth cannot be in the future.\"\n",
    "        if year < 1900:\n",
    "            return \"Invalid: Year must not be earlier than 1900.\"\n",
    "\n",
    "    except ValueError:\n",
    "        return \"Invalid: The date is not valid. Please check the day, month, and year.\"\n",
    "\n",
    "    return \"Valid: Date of birth is acceptable.\"\n",
    "\n",
    "\n",
    "dob_input = input(\"Enter your date of birth (DD/MM/YYYY): \")\n",
    "result = validate_dob(dob_input)\n",
    "print(result)\n"
   ]
  },
  {
   "cell_type": "markdown",
   "metadata": {},
   "source": [
    "6. Height"
   ]
  },
  {
   "cell_type": "code",
   "execution_count": null,
   "metadata": {},
   "outputs": [],
   "source": [
    "import re\n",
    "\n",
    "def validate_height(height):\n",
    "    \"\"\"\n",
    "    height must be in the format of Centimeters.\n",
    "    \n",
    "    \"\"\"\n",
    "    cm_pattern = r'^\\s*(\\d{2,3})\\s*cm\\s*$'\n",
    "   \n",
    "\n",
    "    if not height.strip():\n",
    "        return \"Invalid: Height cannot be empty.\"\n",
    "\n",
    "    if re.match(cm_pattern, height):\n",
    "        cm_value = int(re.match(cm_pattern, height).group(1))\n",
    "        if 50 <= cm_value <= 300:\n",
    "            return \"Valid: Height in centimeters is acceptable.\"\n",
    "        else:\n",
    "            return \"Invalid: Height in cm must be between 50 and 300.\"\n",
    "\n",
    "    else:\n",
    "        return \"Invalid: Height must be in the format '150cm' or '5'9\\\"'.\"\n",
    "\n",
    "\n",
    "height_input = input(\"Enter your height (e.g., 175cm or 5'9\\\"): \")\n",
    "result = validate_height(height_input)\n",
    "print(result)\n"
   ]
  },
  {
   "cell_type": "markdown",
   "metadata": {},
   "source": [
    "7. Weight"
   ]
  },
  {
   "cell_type": "code",
   "execution_count": null,
   "metadata": {},
   "outputs": [],
   "source": [
    "import re\n",
    "\n",
    "def validate_weight(weight):\n",
    "    \"\"\"\n",
    "    weight must be in the format of Kilograms\n",
    "    \n",
    "    \"\"\"\n",
    "    kg_pattern = r'^\\s*(\\d{1,3})\\s*kg\\s*$'\n",
    "\n",
    "\n",
    "    if not weight.strip():\n",
    "        return \"Invalid: Weight cannot be empty.\"\n",
    "\n",
    "    if re.match(kg_pattern, weight):\n",
    "        kg_value = int(re.match(kg_pattern, weight).group(1))\n",
    "        if 10 <= kg_value <= 300:\n",
    "            return \"Valid: Weight in kilograms is acceptable.\"\n",
    "        else:\n",
    "            return \"Invalid: Weight in kg must be between 10 and 300.\"\n",
    "    else:\n",
    "        return \"Invalid: Weight must be in the format of '70kg'.\"\n",
    "\n",
    "\n",
    "weight_input = input(\"Enter your weight (e.g., 70kg or 150lb): \")\n",
    "result = validate_weight(weight_input)\n",
    "print(result)\n"
   ]
  }
 ],
 "metadata": {
  "kernelspec": {
   "display_name": "Python 3",
   "language": "python",
   "name": "python3"
  },
  "language_info": {
   "codemirror_mode": {
    "name": "ipython",
    "version": 3
   },
   "file_extension": ".py",
   "mimetype": "text/x-python",
   "name": "python",
   "nbconvert_exporter": "python",
   "pygments_lexer": "ipython3",
   "version": "3.13.1"
  }
 },
 "nbformat": 4,
 "nbformat_minor": 2
}
