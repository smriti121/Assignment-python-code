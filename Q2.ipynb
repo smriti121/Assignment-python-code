{
 "cells": [
  {
   "cell_type": "markdown",
   "metadata": {},
   "source": [
    "Q2. User will enter the start date and end date. Ask user to enter the task to be done on weekdays. If it is weekend then no task should be allotted. "
   ]
  },
  {
   "cell_type": "code",
   "execution_count": 1,
   "metadata": {},
   "outputs": [
    {
     "name": "stdout",
     "output_type": "stream",
     "text": [
      "28-12-2024 is a weekend. No task.\n",
      "29-12-2024 is a weekend. No task.\n",
      "04-01-2025 is a weekend. No task.\n",
      "05-01-2025 is a weekend. No task.\n",
      "11-01-2025 is a weekend. No task.\n",
      "12-01-2025 is a weekend. No task.\n",
      "18-01-2025 is a weekend. No task.\n",
      "19-01-2025 is a weekend. No task.\n",
      "\n",
      "Tasks:\n",
      "23-12-2024: dfghj\n",
      "24-12-2024: fgh\n",
      "25-12-2024: ghjk\n",
      "26-12-2024: fgh\n",
      "27-12-2024: fghj\n",
      "30-12-2024: fghj\n",
      "31-12-2024: fghjk\n",
      "01-01-2025: fghj\n",
      "02-01-2025: bhnjk\n",
      "03-01-2025: h\n",
      "06-01-2025: h\n",
      "07-01-2025: h\n",
      "08-01-2025: h\n",
      "09-01-2025: h\n",
      "10-01-2025: h\n",
      "13-01-2025: h\n",
      "14-01-2025: h\n",
      "15-01-2025: h\n",
      "16-01-2025: h\n",
      "17-01-2025: h\n",
      "20-01-2025: h\n",
      "21-01-2025: h\n"
     ]
    }
   ],
   "source": [
    "from datetime import datetime, timedelta\n",
    "\n",
    "start_date_input = input(\"Enter the start date (DD-MM-YYYY): \")\n",
    "end_date_input = input(\"Enter the end date (DD-MM-YYYY): \")\n",
    "\n",
    "start_date = datetime.strptime(start_date_input, \"%d-%m-%Y\")\n",
    "end_date = datetime.strptime(end_date_input, \"%d-%m-%Y\")\n",
    "\n",
    "tasks = {}\n",
    "\n",
    "current_date = start_date\n",
    "while current_date <= end_date:\n",
    "    if current_date.weekday() < 5:  \n",
    "        task = input(f\"Enter the task for {current_date.strftime('%d-%m-%Y')}: \")\n",
    "        tasks[current_date.strftime('%d-%m-%Y')] = task\n",
    "    else:  \n",
    "        print(f\"{current_date.strftime('%d-%m-%Y')} is a weekend. No task.\")\n",
    "    current_date += timedelta(days=1)\n",
    "\n",
    "print(\"\\nTasks:\")\n",
    "for date, task in tasks.items():\n",
    "    print(f\"{date}: {task}\")"
   ]
  },
  {
   "cell_type": "code",
   "execution_count": null,
   "metadata": {},
   "outputs": [],
   "source": []
  }
 ],
 "metadata": {
  "kernelspec": {
   "display_name": "Python 3",
   "language": "python",
   "name": "python3"
  },
  "language_info": {
   "codemirror_mode": {
    "name": "ipython",
    "version": 3
   },
   "file_extension": ".py",
   "mimetype": "text/x-python",
   "name": "python",
   "nbconvert_exporter": "python",
   "pygments_lexer": "ipython3",
   "version": "3.12.6"
  }
 },
 "nbformat": 4,
 "nbformat_minor": 2
}
